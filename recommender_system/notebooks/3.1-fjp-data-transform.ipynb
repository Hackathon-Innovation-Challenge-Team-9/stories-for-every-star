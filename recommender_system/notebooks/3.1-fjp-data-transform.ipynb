{
  "cells": [
    {
      "cell_type": "markdown",
      "metadata": {
        "id": "h54ekc8ed8Br"
      },
      "source": [
        "# Data Transform"
      ]
    },
    {
      "cell_type": "markdown",
      "metadata": {
        "id": "XK3r04igd8B8"
      },
      "source": [
        "## 0 Global settings"
      ]
    },
    {
      "cell_type": "code",
      "execution_count": 1,
      "metadata": {
        "colab": {
          "base_uri": "https://localhost:8080/"
        },
        "id": "McZfAvPAd8B-",
        "outputId": "1ad4b1da-e306-476b-cbf2-b4059521f1e0"
      },
      "outputs": [
        {
          "name": "stdout",
          "output_type": "stream",
          "text": [
            "System version: 3.11.5 (tags/v3.11.5:cce6ba9, Aug 24 2023, 14:38:34) [MSC v.1936 64 bit (AMD64)]\n",
            "Pandas version: 2.2.2\n",
            "Setup Complete\n"
          ]
        }
      ],
      "source": [
        "import os\n",
        "import sys\n",
        "import pandas as pd\n",
        "\n",
        "print(f\"System version: {sys.version}\")\n",
        "print(f\"Pandas version: {pd.__version__}\")\n",
        "print(\"Setup Complete\")\n"
      ]
    },
    {
      "cell_type": "markdown",
      "metadata": {
        "id": "yZdTFKWYd8CF"
      },
      "source": [
        "## 1 Load Datasets"
      ]
    },
    {
      "cell_type": "markdown",
      "metadata": {
        "id": "iLYKklipd8CH"
      },
      "source": [
        "### 1.1 Specify Dataset Directory"
      ]
    },
    {
      "cell_type": "code",
      "execution_count": 2,
      "metadata": {
        "id": "_vj4_XSIewfA"
      },
      "outputs": [],
      "source": [
        "raw_path = '../data/raw'\n",
        "interim_path = '../data/interim'\n",
        "processed_path = '../data/processed'\n"
      ]
    },
    {
      "cell_type": "markdown",
      "metadata": {
        "id": "WwNFxJOed8CL"
      },
      "source": [
        "### 1.2.1 Load dataset of books/genres/authors"
      ]
    },
    {
      "cell_type": "code",
      "execution_count": 3,
      "metadata": {
        "id": "l9uEaCagd8CN"
      },
      "outputs": [],
      "source": [
        "# Extract CSV curated data\n",
        "books_df = pd.read_csv(os.path.join(interim_path,'books_curated.csv'))\n",
        "genres_df = pd.read_csv(os.path.join(interim_path,'genres_curated.csv'))\n",
        "authors_df = pd.read_csv(os.path.join(interim_path,'authors_curated.csv'))\n"
      ]
    },
    {
      "cell_type": "markdown",
      "metadata": {
        "id": "q4T5S9Njd8CQ"
      },
      "source": [
        "## 2 Item Features Dataset"
      ]
    },
    {
      "cell_type": "code",
      "execution_count": 4,
      "metadata": {
        "id": "vucSrduHd8CR"
      },
      "outputs": [],
      "source": [
        "def transform_items_data(books: pd.DataFrame, authors: pd.DataFrame, genres: pd.DataFrame) -> pd.DataFrame:\n",
        "    \"\"\"\n",
        "    Merge and transform data from books, authors, and genres DataFrames.\n",
        "\n",
        "    Args:\n",
        "        books (pandas.DataFrame): DataFrame containing book information.\n",
        "        authors (pandas.DataFrame): DataFrame containing author information.\n",
        "        genres (pandas.DataFrame): DataFrame containing genre information.\n",
        "\n",
        "    Returns:\n",
        "        pandas.DataFrame: Merged and transformed DataFrame containing book, author, and genre information.\n",
        "    \"\"\"\n",
        "\n",
        "    # Merge books and authors DataFrames\n",
        "    df = pd.merge(books, authors, on='author_id')\n",
        "\n",
        "    # Merge with genres DataFrame\n",
        "    df = pd.merge(df, genres, on='book_id')\n",
        "\n",
        "    # Reorder columns\n",
        "    df = df.loc[:, ['book_id', 'title', 'name', 'genres', 'publication_year']]\n",
        "\n",
        "    # Rename column 'name' to 'author'\n",
        "    df = df.rename(columns={'name': 'author'})\n",
        "\n",
        "    # Replace ', ' with '|' in 'genres' column\n",
        "    df['genres'] = df['genres'].str.replace(', ', '|',)\n",
        "\n",
        "    return df\n"
      ]
    },
    {
      "cell_type": "code",
      "execution_count": 5,
      "metadata": {
        "colab": {
          "base_uri": "https://localhost:8080/",
          "height": 206
        },
        "id": "wWhOjncrd8CW",
        "outputId": "07b0545a-b4b6-482e-d025-54236c0c524b"
      },
      "outputs": [
        {
          "data": {
            "text/html": [
              "<div>\n",
              "<style scoped>\n",
              "    .dataframe tbody tr th:only-of-type {\n",
              "        vertical-align: middle;\n",
              "    }\n",
              "\n",
              "    .dataframe tbody tr th {\n",
              "        vertical-align: top;\n",
              "    }\n",
              "\n",
              "    .dataframe thead th {\n",
              "        text-align: right;\n",
              "    }\n",
              "</style>\n",
              "<table border=\"1\" class=\"dataframe\">\n",
              "  <thead>\n",
              "    <tr style=\"text-align: right;\">\n",
              "      <th></th>\n",
              "      <th>book_id</th>\n",
              "      <th>title</th>\n",
              "      <th>author</th>\n",
              "      <th>genres</th>\n",
              "      <th>publication_year</th>\n",
              "    </tr>\n",
              "  </thead>\n",
              "  <tbody>\n",
              "    <tr>\n",
              "      <th>0</th>\n",
              "      <td>581169</td>\n",
              "      <td>The Wind in the Willows</td>\n",
              "      <td>Kenneth Grahame</td>\n",
              "      <td>fiction|children|fantasy|paranormal|young-adult</td>\n",
              "      <td>2009</td>\n",
              "    </tr>\n",
              "    <tr>\n",
              "      <th>1</th>\n",
              "      <td>65832</td>\n",
              "      <td>Anne of Green Gables</td>\n",
              "      <td>L.M. Montgomery</td>\n",
              "      <td>fiction|young-adult|children|history|historica...</td>\n",
              "      <td>1984</td>\n",
              "    </tr>\n",
              "    <tr>\n",
              "      <th>2</th>\n",
              "      <td>6987114</td>\n",
              "      <td>Mary Louise and the Liberty Girls</td>\n",
              "      <td>Edith Van Dyne</td>\n",
              "      <td>mystery|thriller|crime|fiction|children</td>\n",
              "      <td>2009</td>\n",
              "    </tr>\n",
              "    <tr>\n",
              "      <th>3</th>\n",
              "      <td>852724</td>\n",
              "      <td>Heidi</td>\n",
              "      <td>Johanna Spyri</td>\n",
              "      <td>children|fiction|young-adult|history|historica...</td>\n",
              "      <td>1998</td>\n",
              "    </tr>\n",
              "    <tr>\n",
              "      <th>4</th>\n",
              "      <td>15983158</td>\n",
              "      <td>The Little Lame Prince</td>\n",
              "      <td>Dinah Maria Mulock Craik</td>\n",
              "      <td>fantasy|paranormal|fiction|children|young-adult</td>\n",
              "      <td>1874</td>\n",
              "    </tr>\n",
              "  </tbody>\n",
              "</table>\n",
              "</div>"
            ],
            "text/plain": [
              "    book_id                              title                    author  \\\n",
              "0    581169            The Wind in the Willows           Kenneth Grahame   \n",
              "1     65832               Anne of Green Gables           L.M. Montgomery   \n",
              "2   6987114  Mary Louise and the Liberty Girls            Edith Van Dyne   \n",
              "3    852724                              Heidi             Johanna Spyri   \n",
              "4  15983158             The Little Lame Prince  Dinah Maria Mulock Craik   \n",
              "\n",
              "                                              genres  publication_year  \n",
              "0    fiction|children|fantasy|paranormal|young-adult              2009  \n",
              "1  fiction|young-adult|children|history|historica...              1984  \n",
              "2            mystery|thriller|crime|fiction|children              2009  \n",
              "3  children|fiction|young-adult|history|historica...              1998  \n",
              "4    fantasy|paranormal|fiction|children|young-adult              1874  "
            ]
          },
          "execution_count": 5,
          "metadata": {},
          "output_type": "execute_result"
        }
      ],
      "source": [
        "# Create a item features dataset\n",
        "item_feature_df = transform_items_data(books_df, authors_df, genres_df)\n",
        "item_feature_df.head()\n"
      ]
    },
    {
      "cell_type": "code",
      "execution_count": 6,
      "metadata": {
        "id": "5phvcRGphutj"
      },
      "outputs": [],
      "source": [
        "def save_to_csv(df: pd.DataFrame, path: str, filename: str) -> None:\n",
        "    \"\"\"\n",
        "    Saves a DataFrame to a CSV file.\n",
        "\n",
        "    Args:\n",
        "        df (pd.DataFrame): The DataFrame to save.\n",
        "        path (str): The directory to save the file in.\n",
        "        filename (str): The name of the file.\n",
        "\n",
        "    Returns:\n",
        "        None\n",
        "    \"\"\"\n",
        "    # Check if the directory exists, if not, create it\n",
        "    if not os.path.exists(path):\n",
        "        os.makedirs(path)\n",
        "        print(f\"Path '{path}' created.\")\n",
        "\n",
        "    # Create the full file path\n",
        "    file_path = os.path.join(path, filename)\n",
        "\n",
        "    # Save the DataFrame to a CSV file\n",
        "    df.to_csv(file_path, index=False)\n",
        "\n",
        "    print(f\"{filename} file saved in {file_path}\")"
      ]
    },
    {
      "cell_type": "code",
      "execution_count": 7,
      "metadata": {
        "colab": {
          "base_uri": "https://localhost:8080/"
        },
        "id": "QwDXRlg1d8CZ",
        "outputId": "2e72258c-2b75-4b9f-bb0c-b0eb2b3b6e9a"
      },
      "outputs": [
        {
          "name": "stdout",
          "output_type": "stream",
          "text": [
            "item-features.csv file saved in ../data/processed\\item-features.csv\n"
          ]
        }
      ],
      "source": [
        "# Load to processed data path\n",
        "save_to_csv(item_feature_df, processed_path, 'item-features.csv')\n"
      ]
    },
    {
      "cell_type": "markdown",
      "metadata": {
        "id": "0p_eUzTZd8Cb"
      },
      "source": [
        "## 3 User-Item-Ratings Dataset"
      ]
    },
    {
      "cell_type": "code",
      "execution_count": 8,
      "metadata": {
        "id": "LFIGKSocd8Cc"
      },
      "outputs": [],
      "source": [
        "def transform_iteractions_data(path: str, chunk_size: int, books: pd.DataFrame) -> pd.DataFrame:\n",
        "    \"\"\"\n",
        "    Processes a JSON file containing book interactions in chunks and returns a concatenated DataFrame.\n",
        "\n",
        "    Args:\n",
        "        path (str): The path to the JSON file.\n",
        "        chunk_size (int): The size of each chunk to read.\n",
        "        book_ids (list): A list of book IDs (integers) to filter the data by.\n",
        "\n",
        "    Returns:\n",
        "        pd.DataFrame: A DataFrame containing the processed book interactions.\n",
        "    \"\"\"\n",
        "\n",
        "    try:\n",
        "        # Initialize a counter to track the number of chunks processed\n",
        "        counter = 0\n",
        "\n",
        "        # Extract the list of book IDs from the books DataFrame\n",
        "        books_ids = books[\"book_id\"].tolist()\n",
        "\n",
        "        # Read the file in chunks and filter directly during reading\n",
        "        chunks = []\n",
        "        for chunk in pd.read_json(path, lines=True, chunksize=chunk_size):\n",
        "            chunk = chunk[[\"user_id\", \"book_id\", \"rating\"]]\n",
        "            chunk = chunk[chunk[\"book_id\"].isin(books_ids)]\n",
        "\n",
        "            # Increments the counter and shows the number of chunks processed\n",
        "            chunks.append(chunk)\n",
        "            counter += 1\n",
        "            print(f\"Chunks processed: {counter}\")\n",
        "\n",
        "        # Concatenate the processed chunks into a single DataFrame\n",
        "        df = pd.concat(chunks, ignore_index=True)\n",
        "\n",
        "        # Drop any duplicate rows\n",
        "        df.drop_duplicates(inplace=True)\n",
        "        print(\"Done\")\n",
        "\n",
        "        return df\n",
        "\n",
        "    except FileNotFoundError as e:\n",
        "        raise e\n"
      ]
    },
    {
      "cell_type": "code",
      "execution_count": 9,
      "metadata": {
        "colab": {
          "base_uri": "https://localhost:8080/"
        },
        "id": "y26eDLc2d8Cg",
        "outputId": "3c9e8bac-5734-4460-d716-31d11bb08aa0"
      },
      "outputs": [
        {
          "name": "stdout",
          "output_type": "stream",
          "text": [
            "Chunks processed: 1\n",
            "Chunks processed: 2\n",
            "Chunks processed: 3\n",
            "Chunks processed: 4\n",
            "Chunks processed: 5\n",
            "Chunks processed: 6\n",
            "Chunks processed: 7\n",
            "Chunks processed: 8\n",
            "Chunks processed: 9\n",
            "Chunks processed: 10\n",
            "Chunks processed: 11\n"
          ]
        }
      ],
      "source": [
        "# Process user-item-ratings datasets\n",
        "path_data = os.path.join(raw_path, 'goodreads_interactions_children.json.gz')\n",
        "interactions_df = transform_iteractions_data(path_data, chunk_size=1000000, books=books_df)\n"
      ]
    },
    {
      "cell_type": "code",
      "execution_count": 10,
      "metadata": {
        "colab": {
          "base_uri": "https://localhost:8080/"
        },
        "id": "j2ZbwDZTd8Ci",
        "outputId": "9f1edf67-53aa-4e53-b6bf-ea7ac1988c4a"
      },
      "outputs": [
        {
          "name": "stdout",
          "output_type": "stream",
          "text": [
            "user-item-ratings.csv file saved in /content/drive/MyDrive/Data/processed/user-item-ratings.csv\n"
          ]
        }
      ],
      "source": [
        "# Load to processed data path\n",
        "save_to_csv(interactions_df, processed_path, 'user-item-ratings.csv')\n"
      ]
    }
  ],
  "metadata": {
    "colab": {
      "provenance": []
    },
    "kernelspec": {
      "display_name": ".venv",
      "language": "python",
      "name": "python3"
    },
    "language_info": {
      "codemirror_mode": {
        "name": "ipython",
        "version": 3
      },
      "file_extension": ".py",
      "mimetype": "text/x-python",
      "name": "python",
      "nbconvert_exporter": "python",
      "pygments_lexer": "ipython3",
      "version": "3.11.5"
    }
  },
  "nbformat": 4,
  "nbformat_minor": 0
}
