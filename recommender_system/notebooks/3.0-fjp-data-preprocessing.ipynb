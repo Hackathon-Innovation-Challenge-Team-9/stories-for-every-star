{
  "cells": [
    {
      "cell_type": "markdown",
      "metadata": {
        "id": "TmmqcIKLUqz6"
      },
      "source": [
        "# Data Exploration"
      ]
    },
    {
      "cell_type": "markdown",
      "metadata": {
        "id": "I2FfC9tsUq0G"
      },
      "source": [
        "## 0 Global settings"
      ]
    },
    {
      "cell_type": "code",
      "execution_count": 1,
      "metadata": {
        "colab": {
          "base_uri": "https://localhost:8080/"
        },
        "id": "id3Y_wt7Uq0H",
        "outputId": "aeff886e-3343-44b2-d825-8ae3175c9b19"
      },
      "outputs": [
        {
          "name": "stdout",
          "output_type": "stream",
          "text": [
            "System version: 3.11.5 (tags/v3.11.5:cce6ba9, Aug 24 2023, 14:38:34) [MSC v.1936 64 bit (AMD64)]\n",
            "Pandas version: 2.2.2\n",
            "Numpy version: 1.26.4\n",
            "json version: 2.0.9\n",
            "re version: 2.2.1\n",
            "Setup Complete\n"
          ]
        }
      ],
      "source": [
        "import gzip\n",
        "import json\n",
        "import re\n",
        "import os\n",
        "import sys\n",
        "import numpy as np\n",
        "import pandas as pd\n",
        "from typing import List, Dict\n",
        "\n",
        "print(f\"System version: {sys.version}\")\n",
        "print(f\"Pandas version: {pd.__version__}\")\n",
        "print(f\"Numpy version: {np.__version__}\")\n",
        "print(f\"json version: {json.__version__}\")\n",
        "print(f\"re version: {re.__version__}\")\n",
        "print(\"Setup Complete\")\n"
      ]
    },
    {
      "cell_type": "markdown",
      "metadata": {
        "id": "galmsH-lUq0O"
      },
      "source": [
        "## 1 Load Datasets"
      ]
    },
    {
      "cell_type": "markdown",
      "metadata": {
        "id": "4kY0KDZ2Uq0M"
      },
      "source": [
        "### 1.1 Specify Dataset Directory"
      ]
    },
    {
      "cell_type": "code",
      "execution_count": 2,
      "metadata": {
        "id": "0_Di9JvZUq0N"
      },
      "outputs": [],
      "source": [
        "raw_path = '../data/raw'\n",
        "interim_path = '../data/interim'\n",
        "processed_path = '../data/processed'\n"
      ]
    },
    {
      "cell_type": "markdown",
      "metadata": {
        "id": "JhGlpzlHUq0S"
      },
      "source": [
        "### 1.2.1 Load dataset of books/genres/authors/pg_catalog"
      ]
    },
    {
      "cell_type": "code",
      "execution_count": 3,
      "metadata": {
        "id": "fIB6-Y8DUq0V"
      },
      "outputs": [],
      "source": [
        "def load_data(file_path: str) -> List[Dict]:\n",
        "    \"\"\"\n",
        "    Loads data from a gzipped JSON file.\n",
        "\n",
        "    Args:\n",
        "        file_path (str): The path to the gzipped JSON file.\n",
        "\n",
        "    Returns:\n",
        "        list: A list of dictionaries, where each dictionary represents a data point.\n",
        "    \"\"\"\n",
        "    try:\n",
        "        with gzip.open(file_path, 'rt') as file:\n",
        "            data = [json.loads(line) for line in file]\n",
        "    except FileNotFoundError:\n",
        "        print(f\"Error: File '{file_path}' not found.\")\n",
        "        return []\n",
        "    except (json.JSONDecodeError, UnicodeDecodeError):\n",
        "        print(f\"Error: Unable to decode data in '{file_path}'.\")\n",
        "        return []\n",
        "    return data\n"
      ]
    },
    {
      "cell_type": "code",
      "execution_count": 4,
      "metadata": {
        "id": "57oRYUrbUq0W"
      },
      "outputs": [],
      "source": [
        "# Extract JSON files data\n",
        "books = load_data(os.path.join(raw_path, 'goodreads_books_children.json.gz'))\n",
        "genres = load_data(os.path.join(raw_path, 'goodreads_book_genres_initial.json.gz'))\n",
        "authors = load_data(os.path.join(raw_path, 'goodreads_book_authors.json.gz'))\n"
      ]
    },
    {
      "cell_type": "code",
      "execution_count": 5,
      "metadata": {},
      "outputs": [],
      "source": [
        "# Load data into a DataFrame\n",
        "books_df = pd.json_normalize(\n",
        "    books, \"authors\", [\"book_id\", \"title\", 'publication_year']\n",
        ")\n",
        "genres_df = pd.DataFrame(genres)\n",
        "authors_df = pd.DataFrame(authors)\n"
      ]
    },
    {
      "cell_type": "code",
      "execution_count": 6,
      "metadata": {},
      "outputs": [],
      "source": [
        "# Extract CSV data with public domain books from project gutenberg\n",
        "pgbooks_df = pd.read_csv(os.path.join(raw_path,'pg_catalog.csv'), low_memory=False)\n"
      ]
    },
    {
      "cell_type": "markdown",
      "metadata": {
        "id": "ycl9BEfzUq0U"
      },
      "source": [
        "## 2 Preprocessing Data"
      ]
    },
    {
      "cell_type": "markdown",
      "metadata": {},
      "source": [
        "### 2.1 Project Gutenberg Catalog"
      ]
    },
    {
      "cell_type": "code",
      "execution_count": 7,
      "metadata": {},
      "outputs": [],
      "source": [
        "def clean_data_pg(df: pd.DataFrame) -> pd.DataFrame:\n",
        "    \"\"\"\n",
        "    Clean the input DataFrame by filtering rows based on specific conditions and dropping unnecessary columns.\n",
        "\n",
        "    Args:\n",
        "        df (pd.DataFrame): The input DataFrame to be cleaned.\n",
        "\n",
        "    Returns:\n",
        "        pd.DataFrame: The cleaned DataFrame.\n",
        "\n",
        "    This function performs the following operations:\n",
        "    1. Filters rows where the 'Subjects' column contains 'Children's stories', the 'Type' column is 'Text',\n",
        "        and the 'Language' column is 'en'.\n",
        "    2. Converts the 'Title' column to string data type.\n",
        "    3. Drops the 'Text#', 'Type', 'Issued', 'Subjects', 'LoCC', 'Bookshelves', and 'Language' columns.\n",
        "    \"\"\"\n",
        "    \n",
        "    # Filter rows based on columns: 'Subjects', 'Type', 'Language'\n",
        "    filter_mask = (\n",
        "        df['Subjects'].str.contains(\n",
        "            \"Children's stories\", regex=False, na=False)\n",
        "        & (df['Type'] == \"Text\")\n",
        "        & (df['Language'] == \"en\")\n",
        "    )\n",
        "    df = df[filter_mask]\n",
        "\n",
        "    # Change column type to string for column: 'Title'\n",
        "    df = df.astype({'Title': 'string'})\n",
        "\n",
        "    # Drop unnecessary columns\n",
        "    columns_to_drop = ['Text#', 'Type', 'Issued',\n",
        "                        'Subjects', 'LoCC', 'Bookshelves', 'Language']\n",
        "    df = df.drop(columns=columns_to_drop)\n",
        "\n",
        "    return df\n"
      ]
    },
    {
      "cell_type": "code",
      "execution_count": 8,
      "metadata": {},
      "outputs": [
        {
          "data": {
            "text/html": [
              "<div>\n",
              "<style scoped>\n",
              "    .dataframe tbody tr th:only-of-type {\n",
              "        vertical-align: middle;\n",
              "    }\n",
              "\n",
              "    .dataframe tbody tr th {\n",
              "        vertical-align: top;\n",
              "    }\n",
              "\n",
              "    .dataframe thead th {\n",
              "        text-align: right;\n",
              "    }\n",
              "</style>\n",
              "<table border=\"1\" class=\"dataframe\">\n",
              "  <thead>\n",
              "    <tr style=\"text-align: right;\">\n",
              "      <th></th>\n",
              "      <th>Title</th>\n",
              "      <th>Authors</th>\n",
              "    </tr>\n",
              "  </thead>\n",
              "  <tbody>\n",
              "    <tr>\n",
              "      <th>10</th>\n",
              "      <td>Alice's Adventures in Wonderland</td>\n",
              "      <td>Carroll, Lewis, 1832-1898</td>\n",
              "    </tr>\n",
              "    <tr>\n",
              "      <th>11</th>\n",
              "      <td>Through the Looking-Glass</td>\n",
              "      <td>Carroll, Lewis, 1832-1898</td>\n",
              "    </tr>\n",
              "    <tr>\n",
              "      <th>56</th>\n",
              "      <td>Aladdin and the Magic Lamp</td>\n",
              "      <td>Unknown</td>\n",
              "    </tr>\n",
              "    <tr>\n",
              "      <th>127</th>\n",
              "      <td>The Arabian Nights Entertainments</td>\n",
              "      <td>Lang, Andrew, 1844-1912</td>\n",
              "    </tr>\n",
              "    <tr>\n",
              "      <th>162</th>\n",
              "      <td>Flower Fables</td>\n",
              "      <td>Alcott, Louisa May, 1832-1888</td>\n",
              "    </tr>\n",
              "  </tbody>\n",
              "</table>\n",
              "</div>"
            ],
            "text/plain": [
              "                                 Title                        Authors\n",
              "10    Alice's Adventures in Wonderland      Carroll, Lewis, 1832-1898\n",
              "11           Through the Looking-Glass      Carroll, Lewis, 1832-1898\n",
              "56          Aladdin and the Magic Lamp                        Unknown\n",
              "127  The Arabian Nights Entertainments        Lang, Andrew, 1844-1912\n",
              "162                      Flower Fables  Alcott, Louisa May, 1832-1888"
            ]
          },
          "execution_count": 8,
          "metadata": {},
          "output_type": "execute_result"
        }
      ],
      "source": [
        "# Clean and transform pg_catalog data\n",
        "public_domain_books = clean_data_pg(pgbooks_df.copy())\n",
        "public_domain_books.head()\n"
      ]
    },
    {
      "cell_type": "code",
      "execution_count": 9,
      "metadata": {},
      "outputs": [],
      "source": [
        "def save_to_csv(df: pd.DataFrame, path: str, filename: str) -> None:\n",
        "    \"\"\"\n",
        "    Saves a DataFrame to a CSV file.\n",
        "\n",
        "    Args:\n",
        "        df (pd.DataFrame): The DataFrame to save.\n",
        "        path (str): The directory to save the file in.\n",
        "        filename (str): The name of the file.\n",
        "\n",
        "    Returns:\n",
        "        None\n",
        "    \"\"\"\n",
        "    # Check if the directory exists, if not, create it\n",
        "    if not os.path.exists(path):\n",
        "        os.makedirs(path)\n",
        "        print(f\"Path '{path}' created.\")\n",
        "\n",
        "    # Create the full file path\n",
        "    file_path = os.path.join(path, filename)\n",
        "\n",
        "    # Save the DataFrame to a CSV file\n",
        "    df.to_csv(file_path, index=False)\n",
        "\n",
        "    print(f\"{filename} file saved in {file_path}\")\n"
      ]
    },
    {
      "cell_type": "code",
      "execution_count": 21,
      "metadata": {},
      "outputs": [
        {
          "name": "stdout",
          "output_type": "stream",
          "text": [
            "public_domain_books.csv file saved in ../data/interim\\public_domain_books.csv\n"
          ]
        }
      ],
      "source": [
        "# Load to intermediate data path\n",
        "save_to_csv(public_domain_books, interim_path, 'public_domain_books.csv')\n"
      ]
    },
    {
      "cell_type": "markdown",
      "metadata": {},
      "source": [
        "### 2.2 Books Features"
      ]
    },
    {
      "cell_type": "code",
      "execution_count": 12,
      "metadata": {},
      "outputs": [],
      "source": [
        "def clean_books_data(df: pd.DataFrame) -> pd.DataFrame:\n",
        "    \"\"\"\n",
        "    Clean the books data DataFrame by performing various data cleaning operations.\n",
        "\n",
        "    Args:\n",
        "        df (pd.DataFrame): The input DataFrame containing the books data.\n",
        "        public_domain_books_df (pd.DataFrame): A DataFrame containing the titles of public domain books.\n",
        "\n",
        "    Returns:\n",
        "        pd.DataFrame: The cleaned DataFrame.\n",
        "\n",
        "    This function performs the following operations:\n",
        "    1. Drops the 'role' column.\n",
        "    2. Replaces empty strings with None.\n",
        "    3. Drops rows with missing values in the 'publication_year' column.\n",
        "    4. Drops duplicate rows based on the 'title' column.\n",
        "    5. Filters for books in the public domain based on the 'Title' column in public_domain_books_df.\n",
        "    6. Resets the index.\n",
        "    7. Converts the 'book_id' column to string and the 'publication_year' column to int32.\n",
        "    8. Reorders the columns to ['book_id', 'author_id', 'title', 'publication_year'].\n",
        "    \"\"\"\n",
        "\n",
        "    # Drop column: 'role'\n",
        "    df = df.drop(columns=['role'])\n",
        "\n",
        "    # Replace all instances of \"\" with \"None\"\n",
        "    df = df.replace(\"\", pd.NA)\n",
        "\n",
        "    # Drop rows with missing data in column: 'publication_year'\n",
        "    df = df.dropna(subset=['publication_year'])\n",
        "\n",
        "    # Drop duplicate rows in column: 'title'\n",
        "    df = df.drop_duplicates(subset=['title'])\n",
        "\n",
        "    # Filter for books in the public domain\n",
        "    public_domain_titles = set(public_domain_books['Title'])\n",
        "    df = df[df['title'].isin(public_domain_titles)]\n",
        "\n",
        "    # Reset Index\n",
        "    df.reset_index(drop=True, inplace=True)\n",
        "\n",
        "    # Convert 'publication_year' to int and 'book_id' to string\n",
        "    df = df.astype({'book_id': 'string', 'publication_year': 'int32'})\n",
        "\n",
        "    # Reorder columns\n",
        "    df = df[['book_id', 'author_id', 'title', 'publication_year']]\n",
        "    \n",
        "    return df\n"
      ]
    },
    {
      "cell_type": "code",
      "execution_count": 13,
      "metadata": {},
      "outputs": [
        {
          "data": {
            "text/html": [
              "<div>\n",
              "<style scoped>\n",
              "    .dataframe tbody tr th:only-of-type {\n",
              "        vertical-align: middle;\n",
              "    }\n",
              "\n",
              "    .dataframe tbody tr th {\n",
              "        vertical-align: top;\n",
              "    }\n",
              "\n",
              "    .dataframe thead th {\n",
              "        text-align: right;\n",
              "    }\n",
              "</style>\n",
              "<table border=\"1\" class=\"dataframe\">\n",
              "  <thead>\n",
              "    <tr style=\"text-align: right;\">\n",
              "      <th></th>\n",
              "      <th>book_id</th>\n",
              "      <th>author_id</th>\n",
              "      <th>title</th>\n",
              "      <th>publication_year</th>\n",
              "    </tr>\n",
              "  </thead>\n",
              "  <tbody>\n",
              "    <tr>\n",
              "      <th>0</th>\n",
              "      <td>581169</td>\n",
              "      <td>3843</td>\n",
              "      <td>The Wind in the Willows</td>\n",
              "      <td>2009</td>\n",
              "    </tr>\n",
              "    <tr>\n",
              "      <th>1</th>\n",
              "      <td>11881251</td>\n",
              "      <td>3843</td>\n",
              "      <td>Dream Days</td>\n",
              "      <td>2010</td>\n",
              "    </tr>\n",
              "    <tr>\n",
              "      <th>2</th>\n",
              "      <td>20256651</td>\n",
              "      <td>64709</td>\n",
              "      <td>'Twas the Night Before Christmas</td>\n",
              "      <td>2014</td>\n",
              "    </tr>\n",
              "    <tr>\n",
              "      <th>3</th>\n",
              "      <td>2223427</td>\n",
              "      <td>17538</td>\n",
              "      <td>A Traveler in Time</td>\n",
              "      <td>1964</td>\n",
              "    </tr>\n",
              "    <tr>\n",
              "      <th>4</th>\n",
              "      <td>2429311</td>\n",
              "      <td>1082741</td>\n",
              "      <td>Indian Tales</td>\n",
              "      <td>2007</td>\n",
              "    </tr>\n",
              "  </tbody>\n",
              "</table>\n",
              "</div>"
            ],
            "text/plain": [
              "    book_id author_id                             title  publication_year\n",
              "0    581169      3843           The Wind in the Willows              2009\n",
              "1  11881251      3843                        Dream Days              2010\n",
              "2  20256651     64709  'Twas the Night Before Christmas              2014\n",
              "3   2223427     17538                A Traveler in Time              1964\n",
              "4   2429311   1082741                      Indian Tales              2007"
            ]
          },
          "execution_count": 13,
          "metadata": {},
          "output_type": "execute_result"
        }
      ],
      "source": [
        "# Clean books data\n",
        "books_df_clean = clean_books_data(books_df.copy())\n",
        "books_df_clean.head()\n"
      ]
    },
    {
      "cell_type": "code",
      "execution_count": 14,
      "metadata": {},
      "outputs": [
        {
          "name": "stdout",
          "output_type": "stream",
          "text": [
            "books_curated.csv file saved in ../data/interim\\books_curated.csv\n"
          ]
        }
      ],
      "source": [
        "# Load to intermediate data path\n",
        "save_to_csv(books_df_clean, interim_path, 'books_curated.csv')\n"
      ]
    },
    {
      "cell_type": "markdown",
      "metadata": {},
      "source": [
        "### 2.3 Books Genres "
      ]
    },
    {
      "cell_type": "code",
      "execution_count": 15,
      "metadata": {},
      "outputs": [],
      "source": [
        "def clean_genres_data(df: pd.DataFrame) -> pd.DataFrame:\n",
        "    \"\"\"\n",
        "    Clean the 'genres' column of a DataFrame containing book data.\n",
        "\n",
        "    Args:\n",
        "        df (pd.DataFrame): The input DataFrame containing the 'book_id' and 'genres' columns.\n",
        "\n",
        "    Returns:\n",
        "        pd.DataFrame: The cleaned DataFrame with the 'genres' column converted to a comma-separated string.\n",
        "\n",
        "    This function performs the following operations:\n",
        "    1. Converts the 'book_id' column to string type.\n",
        "    2. Filters the DataFrame to include only book IDs in the public domain.\n",
        "    3. Converts the 'genres' column from a list of genres to a comma-separated string of genres.\n",
        "    4. Resets the index of the resulting DataFrame.\n",
        "    \"\"\"\n",
        "\n",
        "    # Change column type to string for columns: 'book_id'\n",
        "    df['book_id'] = df['book_id'].astype(str)\n",
        "\n",
        "    # Filter for books_ids in the public domain\n",
        "    books_ids = set(books_df_clean['book_id'])\n",
        "    df = df[df['book_id'].isin(books_ids)]\n",
        "\n",
        "    # Convert genres column to list of dictionaries\n",
        "    df['genres'] = df['genres'].apply(lambda x: list(x.keys()))\n",
        "\n",
        "    # Convert the 'genres' column from a list of genres to a comma-separated string of genres\n",
        "    df['genres'] = df['genres'].apply(\n",
        "        lambda x: ', '.join(x) if isinstance(x, list) else x)\n",
        "\n",
        "    # Reset index\n",
        "    df.reset_index(drop=True, inplace=True)\n",
        "\n",
        "    return df\n"
      ]
    },
    {
      "cell_type": "code",
      "execution_count": 16,
      "metadata": {},
      "outputs": [
        {
          "data": {
            "text/html": [
              "<div>\n",
              "<style scoped>\n",
              "    .dataframe tbody tr th:only-of-type {\n",
              "        vertical-align: middle;\n",
              "    }\n",
              "\n",
              "    .dataframe tbody tr th {\n",
              "        vertical-align: top;\n",
              "    }\n",
              "\n",
              "    .dataframe thead th {\n",
              "        text-align: right;\n",
              "    }\n",
              "</style>\n",
              "<table border=\"1\" class=\"dataframe\">\n",
              "  <thead>\n",
              "    <tr style=\"text-align: right;\">\n",
              "      <th></th>\n",
              "      <th>book_id</th>\n",
              "      <th>genres</th>\n",
              "    </tr>\n",
              "  </thead>\n",
              "  <tbody>\n",
              "    <tr>\n",
              "      <th>0</th>\n",
              "      <td>581169</td>\n",
              "      <td>fiction, children, fantasy, paranormal, young-...</td>\n",
              "    </tr>\n",
              "    <tr>\n",
              "      <th>1</th>\n",
              "      <td>11881251</td>\n",
              "      <td>fiction, fantasy, paranormal, children, young-...</td>\n",
              "    </tr>\n",
              "    <tr>\n",
              "      <th>2</th>\n",
              "      <td>20256651</td>\n",
              "      <td>children, poetry, fiction, fantasy, paranormal...</td>\n",
              "    </tr>\n",
              "    <tr>\n",
              "      <th>3</th>\n",
              "      <td>2223427</td>\n",
              "      <td>fiction, history, historical fiction, biograph...</td>\n",
              "    </tr>\n",
              "    <tr>\n",
              "      <th>4</th>\n",
              "      <td>2429311</td>\n",
              "      <td>children, history, historical fiction, biograp...</td>\n",
              "    </tr>\n",
              "  </tbody>\n",
              "</table>\n",
              "</div>"
            ],
            "text/plain": [
              "    book_id                                             genres\n",
              "0    581169  fiction, children, fantasy, paranormal, young-...\n",
              "1  11881251  fiction, fantasy, paranormal, children, young-...\n",
              "2  20256651  children, poetry, fiction, fantasy, paranormal...\n",
              "3   2223427  fiction, history, historical fiction, biograph...\n",
              "4   2429311  children, history, historical fiction, biograp..."
            ]
          },
          "execution_count": 16,
          "metadata": {},
          "output_type": "execute_result"
        }
      ],
      "source": [
        "# Clean genres data\n",
        "genres_df_clean = clean_genres_data(genres_df.copy())\n",
        "genres_df_clean.head()\n"
      ]
    },
    {
      "cell_type": "code",
      "execution_count": 17,
      "metadata": {},
      "outputs": [
        {
          "name": "stdout",
          "output_type": "stream",
          "text": [
            "genres_curated.csv file saved in ../data/interim\\genres_curated.csv\n"
          ]
        }
      ],
      "source": [
        "# Load to intermediate data path\n",
        "save_to_csv(genres_df_clean, interim_path, 'genres_curated.csv')\n"
      ]
    },
    {
      "cell_type": "markdown",
      "metadata": {},
      "source": [
        "### 2.4 Books Authors"
      ]
    },
    {
      "cell_type": "code",
      "execution_count": 18,
      "metadata": {},
      "outputs": [],
      "source": [
        "def clean_authors_data(df: pd.DataFrame) -> pd.DataFrame:\n",
        "    \"\"\"\n",
        "    Clean the authors data by dropping unnecessary columns, converting data types,\n",
        "    and filtering for authors present in the books data.\n",
        "\n",
        "    Args:\n",
        "        df (pd.DataFrame): The authors data DataFrame.\n",
        "        books_df (pd.DataFrame): The books data DataFrame.\n",
        "\n",
        "    Returns:\n",
        "        pd.DataFrame: The cleaned authors data DataFrame.\n",
        "    \"\"\"\n",
        "    \n",
        "    # Drop unnecessary columns\n",
        "    columns_to_drop = ['average_rating',\n",
        "                'text_reviews_count', 'ratings_count']\n",
        "    df = df.drop(columns=columns_to_drop)\n",
        "    \n",
        "    # Change column type to string for columns: 'author_id', 'name'\n",
        "    df = df.astype({'author_id': 'string', 'name': 'string'})\n",
        "    \n",
        "    # Filter for authors_ids in the public domain\n",
        "    authors_ids = set(books_df_clean['author_id'].astype(str))\n",
        "    df = df[df['author_id'].isin(authors_ids)]\n",
        "\n",
        "    # Reset index\n",
        "    df.reset_index(drop=True, inplace=True)\n",
        "    \n",
        "    return df"
      ]
    },
    {
      "cell_type": "code",
      "execution_count": 19,
      "metadata": {},
      "outputs": [
        {
          "data": {
            "text/html": [
              "<div>\n",
              "<style scoped>\n",
              "    .dataframe tbody tr th:only-of-type {\n",
              "        vertical-align: middle;\n",
              "    }\n",
              "\n",
              "    .dataframe tbody tr th {\n",
              "        vertical-align: top;\n",
              "    }\n",
              "\n",
              "    .dataframe thead th {\n",
              "        text-align: right;\n",
              "    }\n",
              "</style>\n",
              "<table border=\"1\" class=\"dataframe\">\n",
              "  <thead>\n",
              "    <tr style=\"text-align: right;\">\n",
              "      <th></th>\n",
              "      <th>author_id</th>\n",
              "      <th>name</th>\n",
              "    </tr>\n",
              "  </thead>\n",
              "  <tbody>\n",
              "    <tr>\n",
              "      <th>0</th>\n",
              "      <td>3041852</td>\n",
              "      <td>Alfred J. Church</td>\n",
              "    </tr>\n",
              "    <tr>\n",
              "      <th>1</th>\n",
              "      <td>5411</td>\n",
              "      <td>Cynthia Rylant</td>\n",
              "    </tr>\n",
              "    <tr>\n",
              "      <th>2</th>\n",
              "      <td>11593</td>\n",
              "      <td>Beatrix Potter</td>\n",
              "    </tr>\n",
              "    <tr>\n",
              "      <th>3</th>\n",
              "      <td>8164</td>\n",
              "      <td>Lewis Carroll</td>\n",
              "    </tr>\n",
              "    <tr>\n",
              "      <th>4</th>\n",
              "      <td>3420</td>\n",
              "      <td>Elizabeth Enright</td>\n",
              "    </tr>\n",
              "  </tbody>\n",
              "</table>\n",
              "</div>"
            ],
            "text/plain": [
              "  author_id               name\n",
              "0   3041852   Alfred J. Church\n",
              "1      5411     Cynthia Rylant\n",
              "2     11593     Beatrix Potter\n",
              "3      8164      Lewis Carroll\n",
              "4      3420  Elizabeth Enright"
            ]
          },
          "execution_count": 19,
          "metadata": {},
          "output_type": "execute_result"
        }
      ],
      "source": [
        "# Clean authors data\n",
        "authors_df_clean = clean_authors_data(authors_df.copy())\n",
        "authors_df_clean.head()\n"
      ]
    },
    {
      "cell_type": "code",
      "execution_count": 20,
      "metadata": {},
      "outputs": [
        {
          "name": "stdout",
          "output_type": "stream",
          "text": [
            "authors_curated.csv file saved in ../data/interim\\authors_curated.csv\n"
          ]
        }
      ],
      "source": [
        "# Load to intermediate data path\n",
        "save_to_csv(authors_df_clean,interim_path, 'authors_curated.csv')\n"
      ]
    }
  ],
  "metadata": {
    "colab": {
      "provenance": []
    },
    "kernelspec": {
      "display_name": ".venv",
      "language": "python",
      "name": "python3"
    },
    "language_info": {
      "codemirror_mode": {
        "name": "ipython",
        "version": 3
      },
      "file_extension": ".py",
      "mimetype": "text/x-python",
      "name": "python",
      "nbconvert_exporter": "python",
      "pygments_lexer": "ipython3",
      "version": "3.11.5"
    }
  },
  "nbformat": 4,
  "nbformat_minor": 0
}
