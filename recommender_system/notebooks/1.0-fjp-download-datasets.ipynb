{
 "cells": [
  {
   "attachments": {},
   "cell_type": "markdown",
   "metadata": {},
   "source": [
    "# Download datasets"
   ]
  },
  {
   "attachments": {},
   "cell_type": "markdown",
   "metadata": {},
   "source": [
    "## 0 Global settings"
   ]
  },
  {
   "cell_type": "code",
   "execution_count": 1,
   "metadata": {},
   "outputs": [
    {
     "name": "stdout",
     "output_type": "stream",
     "text": [
      "System version: 3.11.5 (tags/v3.11.5:cce6ba9, Aug 24 2023, 14:38:34) [MSC v.1936 64 bit (AMD64)]\n",
      "Pandas version: 2.2.2\n",
      "requests version: 2.32.3\n",
      "Setup Complete\n"
     ]
    }
   ],
   "source": [
    "import sys\n",
    "import pandas as pd\n",
    "import requests\n",
    "import os\n",
    "\n",
    "print(f\"System version: {sys.version}\")\n",
    "print(f\"Pandas version: {pd.__version__}\")\n",
    "print(f\"requests version: {requests.__version__}\")\n",
    "print('Setup Complete')"
   ]
  },
  {
   "attachments": {},
   "cell_type": "markdown",
   "metadata": {},
   "source": [
    "## 1 Specify directories"
   ]
  },
  {
   "cell_type": "code",
   "execution_count": 2,
   "metadata": {},
   "outputs": [],
   "source": [
    "file_path = '../data/'\n",
    "output_path = '../data/raw/'"
   ]
  },
  {
   "attachments": {},
   "cell_type": "markdown",
   "metadata": {},
   "source": [
    "## 2 Load data types and names"
   ]
  },
  {
   "cell_type": "code",
   "execution_count": 3,
   "metadata": {},
   "outputs": [
    {
     "data": {
      "text/html": [
       "<div>\n",
       "<style scoped>\n",
       "    .dataframe tbody tr th:only-of-type {\n",
       "        vertical-align: middle;\n",
       "    }\n",
       "\n",
       "    .dataframe tbody tr th {\n",
       "        vertical-align: top;\n",
       "    }\n",
       "\n",
       "    .dataframe thead th {\n",
       "        text-align: right;\n",
       "    }\n",
       "</style>\n",
       "<table border=\"1\" class=\"dataframe\">\n",
       "  <thead>\n",
       "    <tr style=\"text-align: right;\">\n",
       "      <th></th>\n",
       "      <th>type</th>\n",
       "      <th>name</th>\n",
       "    </tr>\n",
       "  </thead>\n",
       "  <tbody>\n",
       "    <tr>\n",
       "      <th>0</th>\n",
       "      <td>gutenberg</td>\n",
       "      <td>pg_catalog.csv</td>\n",
       "    </tr>\n",
       "    <tr>\n",
       "      <th>1</th>\n",
       "      <td>byGenre</td>\n",
       "      <td>goodreads_books_children.json.gz</td>\n",
       "    </tr>\n",
       "    <tr>\n",
       "      <th>2</th>\n",
       "      <td>byGenre</td>\n",
       "      <td>goodreads_interactions_children.json.gz</td>\n",
       "    </tr>\n",
       "    <tr>\n",
       "      <th>3</th>\n",
       "      <td>complete</td>\n",
       "      <td>goodreads_book_genres_initial.json.gz</td>\n",
       "    </tr>\n",
       "    <tr>\n",
       "      <th>4</th>\n",
       "      <td>complete</td>\n",
       "      <td>goodreads_book_authors.json.gz</td>\n",
       "    </tr>\n",
       "  </tbody>\n",
       "</table>\n",
       "</div>"
      ],
      "text/plain": [
       "        type                                     name\n",
       "0  gutenberg                           pg_catalog.csv\n",
       "1    byGenre         goodreads_books_children.json.gz\n",
       "2    byGenre  goodreads_interactions_children.json.gz\n",
       "3   complete    goodreads_book_genres_initial.json.gz\n",
       "4   complete           goodreads_book_authors.json.gz"
      ]
     },
     "metadata": {},
     "output_type": "display_data"
    }
   ],
   "source": [
    "file_names = pd.read_csv(os.path.join(file_path, 'dataset_names.csv'))\n",
    "display(file_names)"
   ]
  },
  {
   "attachments": {},
   "cell_type": "markdown",
   "metadata": {},
   "source": [
    "## 3 Construct the urls to download files"
   ]
  },
  {
   "cell_type": "code",
   "execution_count": 4,
   "metadata": {},
   "outputs": [],
   "source": [
    "def create_file_name_url_mapping(file_names) -> dict:\n",
    "    \"\"\"\n",
    "    Creates a dictionary mapping file names to their URLs based on type.\n",
    "\n",
    "    Args:\n",
    "        file_names (pandas.DataFrame): A DataFrame containing columns named 'name' and 'type'.\n",
    "\n",
    "    Returns:\n",
    "        dict: A dictionary mapping file names to their URLs.\n",
    "    \"\"\"\n",
    "\n",
    "    if not isinstance(file_names, pd.DataFrame):\n",
    "        raise TypeError(\"Input 'file_names' must be a pandas.DataFrame\")\n",
    "\n",
    "    # Validate column names\n",
    "    if not all(col in file_names.columns for col in ['name', 'type']):\n",
    "        raise ValueError(\n",
    "            \"Input DataFrame must contain columns 'name' and 'type'\")\n",
    "\n",
    "    file_name_type_mapping = dict(zip(file_names['name'].values, file_names['type'].values))\n",
    "    file_name_url_mapping = {}\n",
    "\n",
    "    for fname, ftype in file_name_type_mapping.items():\n",
    "        try:\n",
    "            if ftype == \"gutenberg\":\n",
    "                url = f\"https://www.gutenberg.org/cache/epub/feeds/{fname}\"\n",
    "            elif ftype == \"complete\":\n",
    "                url = f\"https://datarepo.eng.ucsd.edu/mcauley_group/gdrive/goodreads/{fname}\"\n",
    "            elif ftype == \"byGenre\":\n",
    "                url = f\"https://datarepo.eng.ucsd.edu/mcauley_group/gdrive/goodreads/byGenre/{fname}\"    \n",
    "            else:\n",
    "                raise ValueError(f\"Unsupported file type: {ftype}\")\n",
    "        except KeyError as e:\n",
    "            # Handle missing file types (optional)\n",
    "            print(\n",
    "                f\"Warning: File type '{ftype}' not found in file_names['type']. Skipping file: {fname}\")\n",
    "            continue\n",
    "\n",
    "        file_name_url_mapping[fname] = url\n",
    "\n",
    "    return file_name_url_mapping"
   ]
  },
  {
   "cell_type": "code",
   "execution_count": 5,
   "metadata": {},
   "outputs": [
    {
     "name": "stdout",
     "output_type": "stream",
     "text": [
      "{'pg_catalog.csv': 'https://www.gutenberg.org/cache/epub/feeds/pg_catalog.csv', 'goodreads_books_children.json.gz': 'https://datarepo.eng.ucsd.edu/mcauley_group/gdrive/goodreads/byGenre/goodreads_books_children.json.gz', 'goodreads_interactions_children.json.gz': 'https://datarepo.eng.ucsd.edu/mcauley_group/gdrive/goodreads/byGenre/goodreads_interactions_children.json.gz', 'goodreads_book_genres_initial.json.gz': 'https://datarepo.eng.ucsd.edu/mcauley_group/gdrive/goodreads/goodreads_book_genres_initial.json.gz', 'goodreads_book_authors.json.gz': 'https://datarepo.eng.ucsd.edu/mcauley_group/gdrive/goodreads/goodreads_book_authors.json.gz'}\n"
     ]
    }
   ],
   "source": [
    "file_name_url_mapping = create_file_name_url_mapping(file_names)\n",
    "print(file_name_url_mapping)"
   ]
  },
  {
   "attachments": {},
   "cell_type": "markdown",
   "metadata": {},
   "source": [
    "## 4 Download datasets"
   ]
  },
  {
   "cell_type": "code",
   "execution_count": 6,
   "metadata": {},
   "outputs": [],
   "source": [
    "def download_datasets(output_path: str):\n",
    "    \"\"\"\n",
    "    Downloads datasets based on the filenames specified in a CSV file.\n",
    "\n",
    "    Args:\n",
    "        output_path (str): Directory where the downloaded files will be saved.\n",
    "    \"\"\"\n",
    "    if not os.path.exists(output_path):\n",
    "        os.makedirs(output_path)\n",
    "\n",
    "    for fname in file_name_url_mapping.keys():\n",
    "        url = file_name_url_mapping[fname]\n",
    "        local_filename = os.path.join(output_path, fname)\n",
    "        try:\n",
    "            with requests.get(url, stream=True) as r:\n",
    "                r.raise_for_status()\n",
    "                with open(local_filename, 'wb') as f:\n",
    "                    for chunk in r.iter_content(chunk_size=8192):\n",
    "                        f.write(chunk)\n",
    "            print(f'Dataset {fname} has been downloaded!')\n",
    "        except Exception as e:\n",
    "            print(f'Error downloading {fname}: {e}')\n"
   ]
  },
  {
   "cell_type": "code",
   "execution_count": null,
   "metadata": {},
   "outputs": [],
   "source": [
    "download_datasets(output_path)"
   ]
  },
  {
   "cell_type": "markdown",
   "metadata": {},
   "source": [
    "## 5 References"
   ]
  },
  {
   "cell_type": "markdown",
   "metadata": {},
   "source": [
    "- Mengting Wan, Julian McAuley, \"[Item Recommendation on Monotonic Behavior Chains](https://github.com/MengtingWan/mengtingwan.github.io/raw/master/paper/recsys18_mwan.pdf)\", in RecSys'18. [[bibtex](https://dblp.uni-trier.de/rec/bibtex/conf/recsys/WanM18)]\n",
    "- Mengting Wan, Rishabh Misra, Ndapa Nakashole, Julian McAuley, \"[Fine-Grained Spoiler Detection from Large-Scale Review Corpora](https://github.com/MengtingWan/mengtingwan.github.io/raw/master/paper/acl19_mwan.pdf)\", in ACL'19. [[bibtex](https://dblp.uni-trier.de/rec/bibtex/conf/acl/WanMNM19)]\n",
    "- Project Gutenberg. (n.d.). Project Gutenberg. https://www.gutenberg.org/ebooks/offline_catalogs.html"
   ]
  }
 ],
 "metadata": {
  "kernelspec": {
   "display_name": "Python 3",
   "language": "python",
   "name": "python3"
  },
  "language_info": {
   "codemirror_mode": {
    "name": "ipython",
    "version": 3
   },
   "file_extension": ".py",
   "mimetype": "text/x-python",
   "name": "python",
   "nbconvert_exporter": "python",
   "pygments_lexer": "ipython3",
   "version": "3.11.5"
  }
 },
 "nbformat": 4,
 "nbformat_minor": 2
}
