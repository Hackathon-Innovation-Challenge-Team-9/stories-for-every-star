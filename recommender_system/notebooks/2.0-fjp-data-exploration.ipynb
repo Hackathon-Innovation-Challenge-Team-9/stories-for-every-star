{
 "cells": [
  {
   "cell_type": "markdown",
   "metadata": {},
   "source": [
    "# Data Exploration"
   ]
  },
  {
   "cell_type": "markdown",
   "metadata": {},
   "source": [
    "## 0 Global settings"
   ]
  },
  {
   "cell_type": "code",
   "execution_count": 1,
   "metadata": {},
   "outputs": [
    {
     "name": "stdout",
     "output_type": "stream",
     "text": [
      "System version: 3.11.5 (tags/v3.11.5:cce6ba9, Aug 24 2023, 14:38:34) [MSC v.1936 64 bit (AMD64)]\n",
      "Pandas version: 2.2.2\n",
      "Numpy version: 1.26.4\n",
      "json version: 2.0.9\n",
      "re version: 2.2.1\n",
      "Setup Complete\n"
     ]
    }
   ],
   "source": [
    "import gzip\n",
    "import json\n",
    "import re\n",
    "import os\n",
    "import sys\n",
    "import itertools\n",
    "import numpy as np\n",
    "import pandas as pd\n",
    "from typing import List, Dict\n",
    "\n",
    "print(f\"System version: {sys.version}\")\n",
    "print(f\"Pandas version: {pd.__version__}\")\n",
    "print(f\"Numpy version: {np.__version__}\")\n",
    "print(f\"json version: {json.__version__}\")\n",
    "print(f\"re version: {re.__version__}\")\n",
    "print(\"Setup Complete\")"
   ]
  },
  {
   "cell_type": "markdown",
   "metadata": {},
   "source": [
    "## 1 Display Sample Records"
   ]
  },
  {
   "cell_type": "markdown",
   "metadata": {},
   "source": [
    "### 1.1 Specify Dataset Directory"
   ]
  },
  {
   "cell_type": "code",
   "execution_count": 2,
   "metadata": {},
   "outputs": [],
   "source": [
    "path = '../data/raw/'"
   ]
  },
  {
   "cell_type": "markdown",
   "metadata": {},
   "source": [
    "### 1.2 Load Datasets"
   ]
  },
  {
   "cell_type": "code",
   "execution_count": 3,
   "metadata": {},
   "outputs": [],
   "source": [
    "def load_sample_data(file_name: str, head: int = 500) -> List[Dict]:\n",
    "    \"\"\"\n",
    "    Load a sample of data from a gzipped JSON file.\n",
    "\n",
    "    Args:\n",
    "        file_name (str): The path to the gzipped JSON file.\n",
    "        head (int, optional): The maximum number of lines to load. Defaults to 500.\n",
    "\n",
    "    Returns:\n",
    "        list: A list of dictionaries representing the loaded data.\n",
    "    \"\"\"\n",
    "    try:\n",
    "        with gzip.open(file_name, 'rt', encoding='utf-8') as f:\n",
    "            data = [json.loads(line) for line in itertools.islice(f, head)]\n",
    "    except FileNotFoundError:\n",
    "        print(f\"Error: {file_name} not found.\")\n",
    "        return []\n",
    "    except (json.JSONDecodeError, UnicodeDecodeError):\n",
    "        print(f\"Error: Failed to decode {file_name}.\")\n",
    "        return []\n",
    "    return data\n"
   ]
  },
  {
   "cell_type": "code",
   "execution_count": 4,
   "metadata": {},
   "outputs": [],
   "source": [
    "books = load_sample_data(os.path.join(path, 'goodreads_books_children.json.gz'))\n",
    "interactions = load_sample_data(os.path.join(path, 'goodreads_interactions_children.json.gz'))\n",
    "genres = load_sample_data(os.path.join(path, 'goodreads_book_genres_initial.json.gz'))\n",
    "authors = load_sample_data(os.path.join(path, 'goodreads_book_authors.json.gz'))\n"
   ]
  },
  {
   "cell_type": "markdown",
   "metadata": {},
   "source": [
    "### 1.3 display sample records of books/interactions/genres/authors"
   ]
  },
  {
   "cell_type": "code",
   "execution_count": 5,
   "metadata": {},
   "outputs": [
    {
     "name": "stdout",
     "output_type": "stream",
     "text": [
      " == sample record (books) ==\n"
     ]
    },
    {
     "data": {
      "text/plain": [
       "{'isbn': '0062333917',\n",
       " 'text_reviews_count': '62',\n",
       " 'series': [],\n",
       " 'country_code': 'US',\n",
       " 'language_code': 'eng',\n",
       " 'popular_shelves': [{'count': '1124', 'name': 'to-read'},\n",
       "  {'count': '50', 'name': 'classics'},\n",
       "  {'count': '43', 'name': 'currently-reading'},\n",
       "  {'count': '33', 'name': 'fairy-tales'},\n",
       "  {'count': '24', 'name': 'fantasy'},\n",
       "  {'count': '21', 'name': 'fiction'},\n",
       "  {'count': '21', 'name': 'picture-books'},\n",
       "  {'count': '17', 'name': 'books-i-own'},\n",
       "  {'count': '16', 'name': 'children'},\n",
       "  {'count': '16', 'name': 'childhood'},\n",
       "  {'count': '15', 'name': 'childrens'},\n",
       "  {'count': '13', 'name': 'المكتبة-الخضراء'},\n",
       "  {'count': '13', 'name': 'fairy-tale'},\n",
       "  {'count': '11', 'name': 'romance'},\n",
       "  {'count': '10', 'name': 'to-buy'},\n",
       "  {'count': '9', 'name': 'fairytales'},\n",
       "  {'count': '8', 'name': 'owned'},\n",
       "  {'count': '8', 'name': 'graphic-novels'},\n",
       "  {'count': '8', 'name': 'wish-list'},\n",
       "  {'count': '8', 'name': 'art'},\n",
       "  {'count': '7', 'name': 'short-stories'},\n",
       "  {'count': '7', 'name': 'read-in-2016'},\n",
       "  {'count': '7', 'name': 'owned-books'},\n",
       "  {'count': '7', 'name': 'favorites'},\n",
       "  {'count': '6', 'name': 'kids'},\n",
       "  {'count': '6', 'name': 'children-books'},\n",
       "  {'count': '6', 'name': 'picture-book'},\n",
       "  {'count': '6', 'name': 'cinderella'},\n",
       "  {'count': '6', 'name': 'read-in-2015'},\n",
       "  {'count': '6', 'name': 'fairytale'},\n",
       "  {'count': '6', 'name': 'classic'},\n",
       "  {'count': '6', 'name': 'children-s-books'},\n",
       "  {'count': '5', 'name': 'traditional-literature'},\n",
       "  {'count': '5', 'name': 'french'},\n",
       "  {'count': '5', 'name': 'childrens-books'},\n",
       "  {'count': '4', 'name': 'arabic'},\n",
       "  {'count': '4', 'name': 'french-literature'},\n",
       "  {'count': '4', 'name': 'illustrated'},\n",
       "  {'count': '4', 'name': 're-read'},\n",
       "  {'count': '4', 'name': 'traditional'},\n",
       "  {'count': '4', 'name': 'stand-alone'},\n",
       "  {'count': '4', 'name': 'juvenile'},\n",
       "  {'count': '4', 'name': 'ebook'},\n",
       "  {'count': '4', 'name': 'cover-love'},\n",
       "  {'count': '3', 'name': 'picturebooks'},\n",
       "  {'count': '3', 'name': 'magic'},\n",
       "  {'count': '3', 'name': 'children-s'},\n",
       "  {'count': '3', 'name': 'arabic-books'},\n",
       "  {'count': '3', 'name': 'childrens-literature'},\n",
       "  {'count': '3', 'name': 'read-2017'},\n",
       "  {'count': '3', 'name': '2017-reads'},\n",
       "  {'count': '3', 'name': 'need-to-buy'},\n",
       "  {'count': '3', 'name': 'short-story'},\n",
       "  {'count': '3', 'name': 'kindle'},\n",
       "  {'count': '3', 'name': 'fairy-tale-retellings'},\n",
       "  {'count': '3', 'name': 'default'},\n",
       "  {'count': '3', 'name': 'cuentos'},\n",
       "  {'count': '3', 'name': 'childrens-classics'},\n",
       "  {'count': '3', 'name': '2015-reads'},\n",
       "  {'count': '2', 'name': 'infantil-juvenil'},\n",
       "  {'count': '2', 'name': 'middle-grade'},\n",
       "  {'count': '2', 'name': 'ذكريات-الطفولة'},\n",
       "  {'count': '2', 'name': 'أطفال'},\n",
       "  {'count': '2', 'name': 'traditional-lit'},\n",
       "  {'count': '2', 'name': 'realistic-fiction'},\n",
       "  {'count': '2', 'name': 'read-more-than-once'},\n",
       "  {'count': '2', 'name': 'pdf'},\n",
       "  {'count': '2', 'name': 'kindle-books'},\n",
       "  {'count': '2', 'name': 'hard-copy'},\n",
       "  {'count': '2', 'name': 'fiabe-e-favole'},\n",
       "  {'count': '2', 'name': 'ebooks'},\n",
       "  {'count': '2', 'name': 'e-book'},\n",
       "  {'count': '2', 'name': 'children-s-classics'},\n",
       "  {'count': '2', 'name': 'childhood-reads'},\n",
       "  {'count': '2', 'name': 'childhood-books'},\n",
       "  {'count': '2', 'name': 'caldecott'},\n",
       "  {'count': '2', 'name': '17th-century-fiction'},\n",
       "  {'count': '2', 'name': 'young-adult'},\n",
       "  {'count': '2', 'name': 'men'},\n",
       "  {'count': '2', 'name': 'read-in-2017'},\n",
       "  {'count': '2', 'name': 'french-lit'},\n",
       "  {'count': '2', 'name': 'kids-books'},\n",
       "  {'count': '2', 'name': 'disney'},\n",
       "  {'count': '2', 'name': 'cinderella-stories'},\n",
       "  {'count': '2', 'name': 'en-français'},\n",
       "  {'count': '2', 'name': 'my-books'},\n",
       "  {'count': '2', 'name': 'wishlist-en'},\n",
       "  {'count': '2', 'name': 'reto-sorpresa'},\n",
       "  {'count': '2', 'name': 'read-in-2014'},\n",
       "  {'count': '2', 'name': 'read-in-2008'},\n",
       "  {'count': '2', 'name': 'own-read'},\n",
       "  {'count': '2', 'name': 'on-my-bookshelf'},\n",
       "  {'count': '2', 'name': 'loved'},\n",
       "  {'count': '2', 'name': 'ipad'},\n",
       "  {'count': '2', 'name': 'illustration'},\n",
       "  {'count': '2', 'name': 'français'},\n",
       "  {'count': '2', 'name': 'folktale'},\n",
       "  {'count': '2', 'name': 'fairytales-and-retellings'},\n",
       "  {'count': '2', 'name': 'books-to-buy'},\n",
       "  {'count': '2', 'name': '5-stars'}],\n",
       " 'asin': '',\n",
       " 'is_ebook': 'false',\n",
       " 'average_rating': '3.99',\n",
       " 'kindle_asin': 'B00JZOVYEI',\n",
       " 'similar_books': ['730596',\n",
       "  '3702683',\n",
       "  '209623',\n",
       "  '862935',\n",
       "  '630858',\n",
       "  '764075',\n",
       "  '8310335',\n",
       "  '209639',\n",
       "  '11735733',\n",
       "  '196964',\n",
       "  '25092138',\n",
       "  '20424',\n",
       "  '15996141',\n",
       "  '2999099'],\n",
       " 'description': \"From the acclaimed and popular illustrator of the New York Times bestseller Alice's Adventures in Wonderland and Snow White, comes a unique and visually stunning spin on Cinderella - published to coincide with the release of the major-motion picture from Walt Disney directed by Kenneth Branagh and featuring an all-star cast.\\nCharles Perrault's story of a sweet-tempered young girl, forced into servitude by her evil stepmother and stepsisters, who finds true love with a handsome prince (with the help of a fairy godmother), has enchanted readers for more than 300 years. In this lavishly illustrated retelling of the classic fairytale, Camille Rose Garcia reimagines Cinderella through her distinctive visual aesthetic. Hers is a Cinderella for the twenty-first century: Dark, compelling, vibrant, and enthralling.\",\n",
       " 'format': 'Hardcover',\n",
       " 'link': 'https://www.goodreads.com/book/show/22138415-cinderella-or-the-little-glass-slipper',\n",
       " 'authors': [{'author_id': '35760', 'role': ''},\n",
       "  {'author_id': '26405', 'role': 'Illustrator'}],\n",
       " 'publisher': 'Harper Design',\n",
       " 'num_pages': '80',\n",
       " 'publication_day': '20',\n",
       " 'isbn13': '9780062333919',\n",
       " 'publication_month': '1',\n",
       " 'edition_information': '',\n",
       " 'publication_year': '2015',\n",
       " 'url': 'https://www.goodreads.com/book/show/22138415-cinderella-or-the-little-glass-slipper',\n",
       " 'image_url': 'https://images.gr-assets.com/books/1408313458m/22138415.jpg',\n",
       " 'book_id': '22138415',\n",
       " 'ratings_count': '365',\n",
       " 'work_id': '50098377',\n",
       " 'title': 'Cinderella, or The Little Glass Slipper',\n",
       " 'title_without_series': 'Cinderella, or The Little Glass Slipper'}"
      ]
     },
     "metadata": {},
     "output_type": "display_data"
    },
    {
     "name": "stdout",
     "output_type": "stream",
     "text": [
      " == sample record (interactions) ==\n"
     ]
    },
    {
     "data": {
      "text/plain": [
       "{'user_id': '4b3636a043e5c99fa27ac897ccfa1151',\n",
       " 'book_id': '5',\n",
       " 'review_id': '55151a7045624b118cef7792ecb04857',\n",
       " 'is_read': True,\n",
       " 'rating': 5,\n",
       " 'review_text_incomplete': '',\n",
       " 'date_added': 'Tue Jun 14 15:29:54 -0700 2011',\n",
       " 'date_updated': 'Tue Jun 14 15:30:02 -0700 2011',\n",
       " 'read_at': '',\n",
       " 'started_at': ''}"
      ]
     },
     "metadata": {},
     "output_type": "display_data"
    },
    {
     "name": "stdout",
     "output_type": "stream",
     "text": [
      " == sample record (genres) ==\n"
     ]
    },
    {
     "data": {
      "text/plain": [
       "{'book_id': '6375329',\n",
       " 'genres': {'fiction': 2,\n",
       "  'history, historical fiction, biography': 2,\n",
       "  'romance': 1}}"
      ]
     },
     "metadata": {},
     "output_type": "display_data"
    },
    {
     "name": "stdout",
     "output_type": "stream",
     "text": [
      " == sample record (authors) ==\n"
     ]
    },
    {
     "data": {
      "text/plain": [
       "{'average_rating': '3.88',\n",
       " 'author_id': '41194',\n",
       " 'text_reviews_count': '1251',\n",
       " 'name': 'Judith Tarr',\n",
       " 'ratings_count': '29656'}"
      ]
     },
     "metadata": {},
     "output_type": "display_data"
    }
   ],
   "source": [
    "print(' == sample record (books) ==')\n",
    "display(np.random.choice(books))\n",
    "print(' == sample record (interactions) ==')\n",
    "display(np.random.choice(interactions))\n",
    "print(' == sample record (genres) ==')\n",
    "display(np.random.choice(genres))\n",
    "print(' == sample record (authors) ==')\n",
    "display(np.random.choice(authors))\n"
   ]
  }
 ],
 "metadata": {
  "kernelspec": {
   "display_name": ".venv",
   "language": "python",
   "name": "python3"
  },
  "language_info": {
   "codemirror_mode": {
    "name": "ipython",
    "version": 3
   },
   "file_extension": ".py",
   "mimetype": "text/x-python",
   "name": "python",
   "nbconvert_exporter": "python",
   "pygments_lexer": "ipython3",
   "version": "3.11.5"
  }
 },
 "nbformat": 4,
 "nbformat_minor": 2
}
