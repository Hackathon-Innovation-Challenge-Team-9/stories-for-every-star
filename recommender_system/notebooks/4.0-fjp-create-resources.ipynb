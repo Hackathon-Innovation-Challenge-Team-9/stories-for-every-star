{
 "cells": [
  {
   "cell_type": "markdown",
   "metadata": {},
   "source": [
    "## 0 Global settings"
   ]
  },
  {
   "cell_type": "code",
   "execution_count": 1,
   "metadata": {},
   "outputs": [
    {
     "name": "stdout",
     "output_type": "stream",
     "text": [
      "System version: 3.11.5 (tags/v3.11.5:cce6ba9, Aug 24 2023, 14:38:34) [MSC v.1936 64 bit (AMD64)]\n",
      "Setup Complete\n"
     ]
    }
   ],
   "source": [
    "# Import the needed credential and management objects from the libraries.\n",
    "import sys\n",
    "import os\n",
    "\n",
    "from azure.identity import InteractiveBrowserCredential\n",
    "from azure.mgmt.resource import ResourceManagementClient\n",
    "from azure.ai.ml import MLClient\n",
    "from azure.ai.ml.entities import Workspace, Data, AmlCompute \n",
    "from azure.ai.ml.constants import AssetTypes\n",
    "from dotenv import load_dotenv, version\n",
    "\n",
    "print(f\"System version: {sys.version}\")\n",
    "print(\"Setup Complete\")"
   ]
  },
  {
   "cell_type": "markdown",
   "metadata": {},
   "source": [
    "## 1 Create a Resource Group"
   ]
  },
  {
   "cell_type": "code",
   "execution_count": 2,
   "metadata": {},
   "outputs": [],
   "source": [
    "# Retrieves environment variables from .env.\n",
    "load_dotenv()\n",
    "\n",
    "subscription_id = os.getenv(\"SUBSCRIPTION_ID\")  # preferably using env variable\n",
    "resource_group = os.getenv(\"RESOURCE_GROUP\")  # preferably using env variable\n",
    "workspace_name = os.getenv(\"WORKSPACE_NAME\")  # preferably using env variable\n",
    "location = os.getenv(\"LOCATION\")  # preferably using env variable"
   ]
  },
  {
   "cell_type": "code",
   "execution_count": 3,
   "metadata": {},
   "outputs": [],
   "source": [
    "# Acquire a credential object using InteractiveBrowserCredential.\n",
    "credential = InteractiveBrowserCredential()"
   ]
  },
  {
   "cell_type": "code",
   "execution_count": 4,
   "metadata": {},
   "outputs": [],
   "source": [
    "# Obtain the management object for resources.\n",
    "resource_client = ResourceManagementClient(credential, subscription_id)"
   ]
  },
  {
   "cell_type": "code",
   "execution_count": 5,
   "metadata": {},
   "outputs": [
    {
     "name": "stdout",
     "output_type": "stream",
     "text": [
      "Provisioned resource group successful\n"
     ]
    }
   ],
   "source": [
    "# Provision the resource group.\n",
    "rg_result = resource_client.resource_groups.create_or_update(\n",
    "    resource_group, {\"location\": location}\n",
    ")\n",
    "\n",
    "print(\n",
    "    \"Provisioned resource group successful\"\n",
    ")\n"
   ]
  },
  {
   "cell_type": "markdown",
   "metadata": {},
   "source": [
    "## 2 Create an Azure Machine Learning workspace"
   ]
  },
  {
   "cell_type": "code",
   "execution_count": 6,
   "metadata": {},
   "outputs": [
    {
     "name": "stderr",
     "output_type": "stream",
     "text": [
      "The deployment request mlw-storiesforeverystar-dev-1684543 was accepted. ARM deployment URI for reference: \n",
      "https://portal.azure.com//#blade/HubsExtension/DeploymentDetailsBlade/overview/id/%2Fsubscriptions%2F578e24c5-0cd4-4c93-9751-a09f28da61be%2FresourceGroups%2Frg-storiesforeverystar-shared-002%2Fproviders%2FMicrosoft.Resources%2Fdeployments%2Fmlw-storiesforeverystar-dev-1684543\n",
      "Creating Storage Account: (mlwstoristorageb5d8fabd1  ) ...  Done (24s)\n",
      "Creating Key Vault: (mlwstorikeyvault0502dce6  )  Done (20s)\n",
      "Creating AzureML Workspace: (mlw-storiesforeverystar-dev  ) ..  Done (22s)\n",
      "Total time : 48s\n",
      "\n"
     ]
    },
    {
     "name": "stdout",
     "output_type": "stream",
     "text": [
      "Azure Machine Learning Workspace provisioned successfully\n"
     ]
    }
   ],
   "source": [
    "# Get a handle to the subscription\n",
    "ml_client = MLClient(credential, subscription_id, resource_group)\n",
    "\n",
    "ws = Workspace(\n",
    "    name=workspace_name,\n",
    "    location=location,\n",
    "    display_name=\"MLW Stories For Every Start\",\n",
    "    description=\"Azure machine learning workspace for recommender system\",\n",
    ")\n",
    "ws = ml_client.workspaces.begin_create(ws).result()\n",
    "\n",
    "print(\n",
    "    \"Azure Machine Learning Workspace provisioned successfully\"\n",
    ")"
   ]
  },
  {
   "cell_type": "markdown",
   "metadata": {},
   "source": [
    "## 3 Create data assets"
   ]
  },
  {
   "cell_type": "code",
   "execution_count": 7,
   "metadata": {},
   "outputs": [],
   "source": [
    "# Get a handle to workspace\n",
    "ml_client = MLClient(credential, subscription_id, resource_group, workspace_name)"
   ]
  },
  {
   "cell_type": "code",
   "execution_count": 8,
   "metadata": {},
   "outputs": [
    {
     "name": "stdout",
     "output_type": "stream",
     "text": [
      "workspaceworkingdirectory\n",
      "workspacefilestore\n",
      "workspaceblobstore\n",
      "workspaceartifactstore\n"
     ]
    }
   ],
   "source": [
    "# List the datastores\n",
    "stores = ml_client.datastores.list()\n",
    "for ds_name in stores:\n",
    "    print(ds_name.name)"
   ]
  },
  {
   "cell_type": "code",
   "execution_count": 9,
   "metadata": {},
   "outputs": [
    {
     "name": "stderr",
     "output_type": "stream",
     "text": [
      "\u001b[32mUploading user-item-ratings.csv\u001b[32m (< 1 MB): 100%|##########| 1.29M/1.29M [00:02<00:00, 545kB/s]\n",
      "\u001b[39m\n",
      "\n"
     ]
    },
    {
     "name": "stdout",
     "output_type": "stream",
     "text": [
      "description: Contains ratings given to children's books in the public domain\n",
      "name: user-item-ratings\n",
      "path: azureml://datastores/workspaceblobstore/paths/LocalUpload/e8387d8de409093813b725147f48c54a/user-item-ratings.csv\n",
      "properties: {}\n",
      "tags: {}\n",
      "type: uri_file\n",
      "\n"
     ]
    }
   ],
   "source": [
    "data_path = '../data/processed/user-item-ratings.csv'\n",
    "\n",
    "my_data = Data(\n",
    "    path=data_path,\n",
    "    type=AssetTypes.URI_FILE,\n",
    "    description=\"Contains ratings given to children's books in the public domain\",\n",
    "    name=\"user-item-ratings\"\n",
    ")\n",
    "\n",
    "ml_client.data.create_or_update(my_data)\n",
    "print(my_data)"
   ]
  },
  {
   "cell_type": "markdown",
   "metadata": {},
   "source": [
    "## 4 Create a compute cluster"
   ]
  },
  {
   "cell_type": "code",
   "execution_count": 10,
   "metadata": {},
   "outputs": [
    {
     "name": "stdout",
     "output_type": "stream",
     "text": [
      "Creating a new cpu compute target...\n"
     ]
    }
   ],
   "source": [
    "# Name assigned to the compute cluster\n",
    "cpu_compute_target = \"aml-cluster\"\n",
    "\n",
    "try:\n",
    "    # let's see if the compute target already exists\n",
    "    cpu_cluster = ml_client.compute.get(cpu_compute_target)\n",
    "    print(\n",
    "        f\"You already have a cluster named {cpu_compute_target}, we'll reuse it as is.\"\n",
    "    )\n",
    "\n",
    "except Exception:\n",
    "    print(\"Creating a new cpu compute target...\")\n",
    "\n",
    "    # Let's create the Azure ML compute object with the intended parameters\n",
    "    cpu_cluster = AmlCompute(\n",
    "        name=cpu_compute_target,\n",
    "        # Azure ML Compute is the on-demand VM service\n",
    "        type=\"amlcompute\",\n",
    "        # VM Family\n",
    "        size=\"STANDARD_DS11_V2\",\n",
    "        # Minimum running nodes when there is no job running\n",
    "        min_instances=0,\n",
    "        # Nodes in cluster\n",
    "        max_instances=2,\n",
    "        # How many seconds will the node running after the job termination\n",
    "        idle_time_before_scale_down=120,\n",
    "        # Dedicated or LowPriority. The latter is cheaper but there is a chance of job termination\n",
    "        tier=\"Dedicated\",\n",
    "    )\n",
    "\n",
    "    # Now, we pass the object to MLClient's create_or_update method\n",
    "    cpu_cluster = ml_client.compute.begin_create_or_update(cpu_cluster)\n"
   ]
  }
 ],
 "metadata": {
  "kernelspec": {
   "display_name": ".venv",
   "language": "python",
   "name": "python3"
  },
  "language_info": {
   "codemirror_mode": {
    "name": "ipython",
    "version": 3
   },
   "file_extension": ".py",
   "mimetype": "text/x-python",
   "name": "python",
   "nbconvert_exporter": "python",
   "pygments_lexer": "ipython3",
   "version": "3.11.5"
  }
 },
 "nbformat": 4,
 "nbformat_minor": 2
}
